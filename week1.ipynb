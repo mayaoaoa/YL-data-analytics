{
 "cells": [
  {
   "cell_type": "code",
   "execution_count": null,
   "metadata": {},
   "outputs": [],
   "source": [
    "#task 1\n",
    "\n",
    "import pandas as pd\n",
    "\n",
    "df = pd.read_csv('data.csv', sep=';') \n",
    "\n",
    "df = df.replace(' ', pd.NA)\n",
    "df = df.dropna()\n",
    "\n",
    "print(df.shape[0], df.shape[1])"
   ]
  },
  {
   "cell_type": "code",
   "execution_count": null,
   "metadata": {},
   "outputs": [],
   "source": [
    "#task 2\n",
    "\n",
    "import pandas as pd\n",
    "\n",
    "df = pd.read_csv('data.csv', sep=',')\n",
    "df.columns = [col.lower().replace(' ', '_') for col in df.columns]\n",
    "df['возраст'] = df['возраст'].str.replace(',', '.')\n",
    "\n",
    "df['возраст'] = pd.to_numeric(df['возраст']).round().astype(int)\n",
    "\n",
    "print(df[['возраст', 'путешествует_с_детьми']].head(10))"
   ]
  },
  {
   "cell_type": "code",
   "execution_count": null,
   "metadata": {},
   "outputs": [],
   "source": [
    "#task 3\n",
    "\n",
    "import pandas as pd\n",
    "\n",
    "df = pd.read_csv(\"data.csv\")\n",
    "\n",
    "df[\"возраст_кат\"] = df[\"возраст\"].apply(lambda x: \"менее_30\" if x <= 30 else \"более_30\")\n",
    "\n",
    "proportion = (df[\"возраст_кат\"].value_counts(normalize=True) * 100).round().astype(int)\n",
    "\n",
    "result = pd.DataFrame({\"proportion\": proportion})\n",
    "\n",
    "print(result)"
   ]
  },
  {
   "cell_type": "code",
   "execution_count": null,
   "metadata": {},
   "outputs": [],
   "source": [
    "#task 4\n",
    "\n",
    "import pandas as pd\n",
    "\n",
    "df = pd.read_csv('data.csv')\n",
    "\n",
    "df['расстояние_кат'] = df['расстояние'].apply(\n",
    "    lambda x: 'домашний_регион' if x <= 300 else ('недалеко_отдома' if x <= 700 else 'дальнее_путешествие'))\n",
    "\n",
    "proportion = (df['расстояние_кат'].value_counts(\n",
    "    normalize=True) * 100).round().astype(int)\n",
    "\n",
    "result = pd.DataFrame({'proportion': proportion})\n",
    "\n",
    "print(result)"
   ]
  },
  {
   "cell_type": "code",
   "execution_count": null,
   "metadata": {},
   "outputs": [],
   "source": [
    "#task 5\n",
    "\n",
    "import pandas as pd\n",
    "\n",
    "df = pd.read_csv(\"data.csv\")\n",
    "df.columns = [col.lower().replace(\" \", \"_\") for col in df.columns]\n",
    "\n",
    "df = df.groupby(\n",
    "    [\"путешествует_с_детьми\", \"общая_оценка_качества_предоставленной_услуги\"]\n",
    ").size()\n",
    "\n",
    "proportion = (df * 100 / df.groupby(level=0).sum()).round(1)\n",
    "result = pd.DataFrame({\"0\": proportion})\n",
    "\n",
    "print(result)"
   ]
  },
  {
   "cell_type": "code",
   "execution_count": null,
   "metadata": {},
   "outputs": [],
   "source": [
    "#task 6\n",
    "\n",
    "import pandas as pd\n",
    "\n",
    "df = pd.read_csv(\"data.csv\")\n",
    "df.columns = [col.lower().replace(\" \", \"_\") for col in df.columns]\n",
    "\n",
    "total = (\n",
    "    df.loc[df[\"общая_оценка_качества_предоставленной_услуги\"] == \"плохо\"]\n",
    "    .groupby([\"расстояние_кат\"])\n",
    "    .size()\n",
    ")\n",
    "\n",
    "bad = (\n",
    "    df.loc[df[\"общая_оценка_качества_предоставленной_услуги\"] == \"плохо\"]\n",
    "    .groupby([\"расстояние_кат\", \"путешествует_с_детьми\"])\n",
    "    .size()\n",
    ")\n",
    "\n",
    "proportion = (bad / total * 100).round(1)\n",
    "proportion = proportion.fillna(0)\n",
    "\n",
    "result = pd.DataFrame({\"0\": proportion})\n",
    "\n",
    "print(result)"
   ]
  }
 ],
 "metadata": {
  "kernelspec": {
   "display_name": "YLenv",
   "language": "python",
   "name": "ylenv"
  },
  "language_info": {
   "codemirror_mode": {
    "name": "ipython",
    "version": 3
   },
   "file_extension": ".py",
   "mimetype": "text/x-python",
   "name": "python",
   "nbconvert_exporter": "python",
   "pygments_lexer": "ipython3",
   "version": "3.12.0rc1"
  }
 },
 "nbformat": 4,
 "nbformat_minor": 2
}
