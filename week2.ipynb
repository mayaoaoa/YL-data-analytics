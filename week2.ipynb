{
 "cells": [
  {
   "cell_type": "code",
   "execution_count": null,
   "metadata": {},
   "outputs": [],
   "source": [
    "#task 1\n",
    "\n",
    "import pandas as pd\n",
    "\n",
    "df = pd.read_csv(\"data.csv\", sep=\",\")\n",
    "df.columns = [col.lower().replace(\" \", \"_\") for col in df.columns]\n",
    "\n",
    "print(df.describe(include=\"object\").T)"
   ]
  },
  {
   "cell_type": "code",
   "execution_count": null,
   "metadata": {},
   "outputs": [],
   "source": [
    "#task 2\n",
    "\n",
    "import pandas as pd\n",
    "\n",
    "df = pd.read_csv(\"data.csv\", sep=\",\")\n",
    "df.columns = [col.lower().replace(\" \", \"_\") for col in df.columns]\n",
    "\n",
    "print(\n",
    "    (\n",
    "        df.groupby(\"покупательская_активность\")[\n",
    "            \"разность_выручки_тек_прошлый_месяц\"\n",
    "        ].describe()\n",
    "    ).astype(int)\n",
    ")"
   ]
  },
  {
   "cell_type": "code",
   "execution_count": null,
   "metadata": {},
   "outputs": [],
   "source": [
    "#task 3\n",
    "\n",
    "import pandas as pd\n",
    "import matplotlib.pyplot as plt\n",
    "\n",
    "df = pd.read_csv(\"data.csv\", sep=\",\")\n",
    "df.columns = [col.lower().replace(\" \", \"_\") for col in df.columns]\n",
    "\n",
    "col = input()\n",
    "col = col.lower().replace(' ', '_')\n",
    "\n",
    "df[col].hist()\n",
    "plt.title(col)\n",
    "plt.savefig(\"target_2_3.png\")"
   ]
  },
  {
   "cell_type": "code",
   "execution_count": null,
   "metadata": {},
   "outputs": [],
   "source": [
    "#task 4\n",
    "\n",
    "import pandas as pd\n",
    "import matplotlib.pyplot as plt\n",
    "import seaborn as sns\n",
    "\n",
    "df = pd.read_csv(\"data.csv\", sep=\",\")\n",
    "\n",
    "df.columns = [col.lower().replace(\" \", \"_\") for col in df.columns]\n",
    "\n",
    "col = input()\n",
    "col = col.lower().replace(\" \", \"_\")\n",
    "\n",
    "sns.kdeplot(x=col, hue=\"покупательская_активность\", data=df, fill=True)\n",
    "plt.ylabel(\"\")\n",
    "\n",
    "plt.savefig(\"target_2_4.png\")"
   ]
  },
  {
   "cell_type": "code",
   "execution_count": null,
   "metadata": {},
   "outputs": [],
   "source": [
    "#task 5\n",
    "\n",
    "import pandas as pd\n",
    "import matplotlib.pyplot as plt\n",
    "\n",
    "df = pd.read_csv(\"data.csv\", sep=\",\")\n",
    "\n",
    "df.columns = [col.lower().replace(\" \", \"_\") for col in df.columns]\n",
    "\n",
    "cl = input()\n",
    "cl = cl.lower().replace(\" \", \"_\")\n",
    "\n",
    "values = df[cl].value_counts()\n",
    "\n",
    "plt.pie(values, labels=values.index, autopct=\"%1.1f%%\")\n",
    "\n",
    "plt.savefig(\"target_2_5.png\")"
   ]
  },
  {
   "cell_type": "code",
   "execution_count": null,
   "metadata": {},
   "outputs": [],
   "source": [
    "#task 6\n",
    "\n",
    "import pandas as pd\n",
    "\n",
    "df = pd.read_csv(\"data.csv\", sep=\",\")\n",
    "\n",
    "df.columns = [col.lower().replace(\" \", \"_\") for col in df.columns]\n",
    "\n",
    "df[\"категории_товаров\"] = df[\"популярная_категория\"].replace(\n",
    "    {\n",
    "        \"Товары для детей\": \"покупки для детей\",\n",
    "        \"Домашний текстиль\": \"покупки для быта\",\n",
    "        \"Кухонная посуда\": \"покупки для быта\",\n",
    "        \"Мелкая бытовая техника и электроника\": \"покупки для быта\",\n",
    "        \"Косметика и аксессуары\": \"покупки для себя\",\n",
    "        \"Техника для красоты и здоровья\": \"покупки для себя\",\n",
    "    }\n",
    ")\n",
    "\n",
    "df = df.query(\"категории_товаров == 'покупки для быта'\")\n",
    "\n",
    "res = (\n",
    "    df.groupby([\"покупательская_активность\"])[\"разность_выручки_тек_прошлый_месяц\"]\n",
    "    .describe()\n",
    ")\n",
    "\n",
    "print(res.fillna(0).astype(int))\n"
   ]
  }
 ],
 "metadata": {
  "kernelspec": {
   "display_name": "YLenv",
   "language": "python",
   "name": "python3"
  },
  "language_info": {
   "name": "python",
   "version": "3.12.0"
  }
 },
 "nbformat": 4,
 "nbformat_minor": 2
}
